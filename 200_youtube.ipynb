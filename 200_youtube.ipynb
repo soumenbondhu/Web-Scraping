{
 "cells": [
  {
   "cell_type": "code",
   "execution_count": 1,
   "id": "61b917f6",
   "metadata": {},
   "outputs": [],
   "source": [
    "#pip install webdriver-manager"
   ]
  },
  {
   "cell_type": "code",
   "execution_count": 2,
   "id": "5d51559c",
   "metadata": {},
   "outputs": [
    {
     "name": "stderr",
     "output_type": "stream",
     "text": [
      "\n",
      "\n",
      "====== WebDriver manager ======\n",
      "Current google-chrome version is 91.0.4472\n",
      "Get LATEST driver version for 91.0.4472\n",
      "Driver [C:\\Users\\soume\\.wdm\\drivers\\chromedriver\\win32\\91.0.4472.101\\chromedriver.exe] found in cache\n"
     ]
    }
   ],
   "source": [
    "from selenium import webdriver\n",
    "from webdriver_manager.chrome import ChromeDriverManager\n",
    "import time\n",
    "driver = webdriver.Chrome(ChromeDriverManager().install())\n",
    "driver.get(\"https://www.youtube.com/\")\n",
    "time.sleep(5)"
   ]
  },
  {
   "cell_type": "code",
   "execution_count": 3,
   "id": "8570c863",
   "metadata": {},
   "outputs": [],
   "source": [
    "search_space=driver.find_element_by_id('search')\n",
    "#print(search_space)\n",
    "search_space.click()\n",
    "#search_key=input(\"Enter user id :\")\n",
    "search_key=\"kolkata food vlog\"\n",
    "search_space.send_keys(search_key)\n",
    "search_botton=driver.find_element_by_id('search-icon-legacy')\n",
    "search_botton.click()\n",
    "time.sleep(5)"
   ]
  },
  {
   "cell_type": "code",
   "execution_count": 4,
   "id": "a75a3bbe",
   "metadata": {
    "scrolled": true
   },
   "outputs": [
    {
     "data": {
      "text/plain": [
       "'channel=[]\\nfor count in range(30):\\n    x_path=driver.find_elements_by_xpath(\\'//*[@id=\"channel-info\"]/a\\')\\n    driver.execute_script(\"window.scrollTo(0, document.body.scrollHeight);\")\\n    time.sleep(4)\\nprint(x_path)\\n\\nfor i in x_path:\\n    channel.append(i.get_attribute(\\'href\\'))\\nprint(channel)'"
      ]
     },
     "execution_count": 4,
     "metadata": {},
     "output_type": "execute_result"
    }
   ],
   "source": [
    "\"\"\"channel=[]\n",
    "for count in range(30):\n",
    "    x_path=driver.find_elements_by_xpath('//*[@id=\"channel-info\"]/a')\n",
    "    driver.execute_script(\"window.scrollTo(0, document.body.scrollHeight);\")\n",
    "    time.sleep(4)\n",
    "print(x_path)\n",
    "\n",
    "for i in x_path:\n",
    "    channel.append(i.get_attribute('href'))\n",
    "print(channel)\"\"\""
   ]
  },
  {
   "cell_type": "markdown",
   "id": "bdac0928",
   "metadata": {},
   "source": [
    "### scrabing 200 link of channel on kolkata food vlog"
   ]
  },
  {
   "cell_type": "code",
   "execution_count": 5,
   "id": "f8ab1ad1",
   "metadata": {},
   "outputs": [],
   "source": [
    "while True:\n",
    "    x_path=driver.find_elements_by_xpath('//*[@id=\"channel-info\"]/a')\n",
    "    #x_path_cname=driver.find_elements_by_xpath('//*[@id=\"text\"]/a')\n",
    "    \n",
    "    scroll_height = 2000\n",
    "    h1 = driver.execute_script(\"return document.documentElement.scrollHeight\")\n",
    "    driver.execute_script(f\"window.scrollTo(0, {h1 + scroll_height});\")\n",
    "    time.sleep(1.5)\n",
    "    h2 = driver.execute_script(\"return document.documentElement.scrollHeight\")\n",
    "    if h1 == h2:\n",
    "        break "
   ]
  },
  {
   "cell_type": "code",
   "execution_count": 6,
   "id": "991b026b",
   "metadata": {},
   "outputs": [
    {
     "name": "stdout",
     "output_type": "stream",
     "text": [
      "368\n",
      "190\n",
      "5\n",
      "['https://www.youtube.com/channel/UCPValY9X5GPQwPhCmxi_RsQ', 'https://www.youtube.com/channel/UCvrfOS6eTQWRN4nD-1hnxVA', 'https://www.youtube.com/channel/UC8r0wTKXxgkLSrnwgzyNJ5Q', 'https://www.youtube.com/channel/UChYB-p0pWx0FDNKUC0U7tPg', 'https://www.youtube.com/channel/UCci0oYRtVj7qilZzByUF4Sw']\n"
     ]
    }
   ],
   "source": [
    "from itertools import product\n",
    "\n",
    "#print(x_path) #\n",
    "print(len(x_path))\n",
    "#print(len(x_path_cname))\n",
    "channel_link=[]\n",
    "#channel_name=[]\n",
    "for i in x_path:\n",
    "    channel_link.append(i.get_attribute('href'))\n",
    "    #channel_name.append(j.get_attribute(\"textContent\"))\n",
    "\n",
    "channel_link_uniq=set(channel_link)\n",
    "channel_link_uniq=list(channel_link_uniq)\n",
    "#channel_name_uniq=set(channel_name)\n",
    "   \n",
    "print(len(channel_link_uniq))\n",
    "if len(channel_link_uniq)>200:\n",
    "    channel_link_uniq=channel_link_uniq[0:200]\n",
    "print(len(channel_link_uniq))\n",
    "print(channel_link_uniq)"
   ]
  },
  {
   "cell_type": "code",
   "execution_count": 7,
   "id": "aa294600",
   "metadata": {},
   "outputs": [],
   "source": [
    "driver.quit()"
   ]
  },
  {
   "cell_type": "markdown",
   "id": "a262aa85",
   "metadata": {},
   "source": [
    "### scrabing data from 200 link of channel"
   ]
  },
  {
   "cell_type": "code",
   "execution_count": 8,
   "id": "a84b5915",
   "metadata": {},
   "outputs": [
    {
     "name": "stderr",
     "output_type": "stream",
     "text": [
      "\n",
      "\n",
      "====== WebDriver manager ======\n",
      "Current google-chrome version is 91.0.4472\n",
      "Get LATEST driver version for 91.0.4472\n",
      "Driver [C:\\Users\\soume\\.wdm\\drivers\\chromedriver\\win32\\91.0.4472.101\\chromedriver.exe] found in cache\n",
      "\n",
      "\n",
      "====== WebDriver manager ======\n",
      "Current google-chrome version is 91.0.4472\n",
      "Get LATEST driver version for 91.0.4472\n",
      "Driver [C:\\Users\\soume\\.wdm\\drivers\\chromedriver\\win32\\91.0.4472.101\\chromedriver.exe] found in cache\n",
      "\n",
      "\n",
      "====== WebDriver manager ======\n",
      "Current google-chrome version is 91.0.4472\n",
      "Get LATEST driver version for 91.0.4472\n",
      "Driver [C:\\Users\\soume\\.wdm\\drivers\\chromedriver\\win32\\91.0.4472.101\\chromedriver.exe] found in cache\n",
      "\n",
      "\n",
      "====== WebDriver manager ======\n",
      "Current google-chrome version is 91.0.4472\n",
      "Get LATEST driver version for 91.0.4472\n",
      "Driver [C:\\Users\\soume\\.wdm\\drivers\\chromedriver\\win32\\91.0.4472.101\\chromedriver.exe] found in cache\n",
      "\n",
      "\n",
      "====== WebDriver manager ======\n",
      "Current google-chrome version is 91.0.4472\n",
      "Get LATEST driver version for 91.0.4472\n",
      "Driver [C:\\Users\\soume\\.wdm\\drivers\\chromedriver\\win32\\91.0.4472.101\\chromedriver.exe] found in cache\n"
     ]
    }
   ],
   "source": [
    "data=[]\n",
    "for i in channel_link_uniq:\n",
    "    driver = webdriver.Chrome(ChromeDriverManager().install())\n",
    "    link=i + \"/about\"\n",
    "    driver.get(link)\n",
    "    time.sleep(3)\n",
    "    n=driver.find_element_by_xpath('//*[@id=\"text-container\"]')\n",
    "    name=n.get_attribute('textContent')\n",
    "    n=driver.find_element_by_xpath('//*[@id=\"description-container\"]')\n",
    "    description=n.get_attribute('textContent')\n",
    "    elements = driver.find_elements_by_xpath(\"//*[@class='style-scope ytd-channel-about-metadata-renderer']\")\n",
    "    element_text=[]\n",
    "    for i in elements:\n",
    "        element_text.append(i.get_attribute('textContent'))\n",
    "    view=element_text[30]\n",
    "    join_date=element_text[29]\n",
    "    \n",
    "    media_link=[]\n",
    "    media_name=[]\n",
    "    link_element = driver.find_elements_by_xpath(\"//*[@class='yt-simple-endpoint style-scope ytd-channel-about-metadata-renderer']\")\n",
    "    for i in link_element:\n",
    "        media_link.append(i.get_attribute('href'))\n",
    "        media_name.append(i.get_attribute('textContent'))\n",
    "    facebook=[]\n",
    "    instragram=[]\n",
    "    twitter=[]\n",
    "    for i in range(len(media_name)):\n",
    "        if \"Facebook\\n\" in media_name[i].split(\" \"):\n",
    "            facebook.append(media_link[i])\n",
    "        if \"Instagram\\n\" in media_name[i].split(\" \"):\n",
    "            instragram.append(media_link[i])\n",
    "        if \"Twitter\\n\" in media_name[i].split(\" \"):\n",
    "            twitter.append(media_link[i])\n",
    "    \n",
    "    data.append([name,link,description,view,join_date,facebook,instragram,twitter])\n",
    "    driver.quit()"
   ]
  },
  {
   "cell_type": "code",
   "execution_count": 14,
   "id": "043318c9",
   "metadata": {},
   "outputs": [
    {
     "data": {
      "text/plain": [
       "[\"\\n  \\n    Description\\n    Namaskar everyone and welcome to my Youtube channel. My name is Saikat Adhikary and I love to travel, eat tasty foods, long rides and explore new places. Come and be a part of my life's journey and explore together. I ride a Honda Aviator(scooter) and shoot with my phone(Samsung galaxy A8+)😉🤓\\n  \\n  \\n    \\n    \\n  \\n  \\n    \\n    \\n      \\n    \\n  \\n  \\n     Details\\n    \\n      \\n        \\n          \\n        \\n\\n        \\n          \\n        \\n\\n        \\n          \\n        \\n\\n        \\n          \\n          \\n          \\n            \\n              \\n            \\n          \\n        \\n\\n        \\n           \\n        \\n      \\n      \\n        \\n          \\nLocation:\\n  \\n        \\n        \\n          India\\n        \\n      \\n    \\n  \\n  \\n    Links\\n    \\n      \\n    \\n  \\n\",\n",
       " \"\\n    Description\\n    Namaskar everyone and welcome to my Youtube channel. My name is Saikat Adhikary and I love to travel, eat tasty foods, long rides and explore new places. Come and be a part of my life's journey and explore together. I ride a Honda Aviator(scooter) and shoot with my phone(Samsung galaxy A8+)😉🤓\\n  \",\n",
       " \"Namaskar everyone and welcome to my Youtube channel. My name is Saikat Adhikary and I love to travel, eat tasty foods, long rides and explore new places. Come and be a part of my life's journey and explore together. I ride a Honda Aviator(scooter) and shoot with my phone(Samsung galaxy A8+)😉🤓\",\n",
       " '\\n    \\n    \\n  ',\n",
       " '',\n",
       " '\\n    \\n    \\n      \\n    \\n  ',\n",
       " '\\n      \\n    ',\n",
       " '',\n",
       " '\\n     Details\\n    \\n      \\n        \\n          \\n        \\n\\n        \\n          \\n        \\n\\n        \\n          \\n        \\n\\n        \\n          \\n          \\n          \\n            \\n              \\n            \\n          \\n        \\n\\n        \\n           \\n        \\n      \\n      \\n        \\n          \\nLocation:\\n  \\n        \\n        \\n          India\\n        \\n      \\n    \\n  ',\n",
       " '\\n      \\n        \\n          \\n        \\n\\n        \\n          \\n        \\n\\n        \\n          \\n        \\n\\n        \\n          \\n          \\n          \\n            \\n              \\n            \\n          \\n        \\n\\n        \\n           \\n        \\n      \\n      \\n        \\n          \\nLocation:\\n  \\n        \\n        \\n          India\\n        \\n      \\n    ',\n",
       " '\\n        \\n          \\n        \\n\\n        \\n          \\n        \\n\\n        \\n          \\n        \\n\\n        \\n          \\n          \\n          \\n            \\n              \\n            \\n          \\n        \\n\\n        \\n           \\n        \\n      \\n      \\n        \\n          \\nLocation:\\n  \\n        \\n        \\n          India\\n        \\n      \\n    ',\n",
       " '\\n        \\n          \\n        \\n\\n        \\n          \\n        \\n\\n        \\n          \\n        \\n\\n        \\n          \\n          \\n          \\n            \\n              \\n            \\n          \\n        \\n\\n        \\n           \\n        \\n      ',\n",
       " '',\n",
       " '\\n          \\n        ',\n",
       " '',\n",
       " '\\n          \\n        ',\n",
       " '',\n",
       " '\\n          \\n          \\n          \\n            \\n              \\n            \\n          \\n        ',\n",
       " '',\n",
       " '\\n           \\n        ',\n",
       " ' ',\n",
       " '\\n        \\n          \\nLocation:\\n  \\n        \\n        \\n          India\\n        \\n      ',\n",
       " '\\nLocation:\\n  ',\n",
       " '\\n          India\\n        ',\n",
       " 'India',\n",
       " '\\n    Links\\n    \\n      \\n    \\n  ',\n",
       " '\\n      \\n    ',\n",
       " '',\n",
       " '\\n  Stats\\n  Joined Jan 10, 2019\\n  9,433 views\\n  \\n',\n",
       " 'Joined Jan 10, 2019',\n",
       " '9,433 views',\n",
       " '']"
      ]
     },
     "execution_count": 14,
     "metadata": {},
     "output_type": "execute_result"
    }
   ],
   "source": []
  },
  {
   "cell_type": "code",
   "execution_count": 9,
   "id": "723c7f7d",
   "metadata": {},
   "outputs": [
    {
     "data": {
      "text/plain": [
       "5"
      ]
     },
     "execution_count": 9,
     "metadata": {},
     "output_type": "execute_result"
    }
   ],
   "source": [
    "len(data)"
   ]
  },
  {
   "cell_type": "code",
   "execution_count": 10,
   "id": "707adc26",
   "metadata": {},
   "outputs": [
    {
     "data": {
      "text/plain": [
       "[['\\n    shamaila sabir\\n  ',\n",
       "  'https://www.youtube.com/channel/UCPValY9X5GPQwPhCmxi_RsQ/about',\n",
       "  '\\n    Description\\n    Hey Friends Welcome to my Channel Shamaila Sabir. Love to travel to new places and make informative videos on that.My channel is a made-for-YouTube travel show that presents interesting and scenic places to visit. This travel show points you towards the best places to shop at and eat at in different places. So, whether you are a food lover, a curious traveler, a thrill seeker or a compulsive explorer, Stay Tuned :)\\n\\nSubscribe to Shamaila Sabir and be the first to view our latest videos! \\nClick here to subscribe: \\nhttps://www.youtube.com/channel/UCPValY9X5GPQwPhCmxi_RsQ\\n\\n\\nhttps://www.instagram.com/chocolicioustreat/\\nhttps://www.facebook.com/ShamailaVlogger/?modal=admin_todo_tour\\n  ',\n",
       "  '348,902 views',\n",
       "  'Joined Feb 24, 2014',\n",
       "  ['https://www.youtube.com/redirect?event=channel_description&redir_token=QUFFLUhqbU1Qcm5aLWVpLWtBZGtSWDNfRzhkVWhvUm9zQXxBQ3Jtc0tuOHF5clpoSUdsbkY3V1pZUDIzeXhEZV9Kdkw5ZjdJNEF6NUtrN2pSUVJzOGZRc2NZZERUYVBadlVtbHNqNmpCNmgxX0hRNG9PSzBPZmMzOXJHTGEybHJOSWZrbHdGWm9zcTJfSmkwdDVULXZtOXFOTQ&q=https%3A%2F%2Fwww.facebook.com%2FShamailaVlogger%2F%3Fmodal%3Dadmin_todo_tour'],\n",
       "  ['https://www.youtube.com/redirect?event=channel_description&redir_token=QUFFLUhqa2ZfdF9MVDRfa2RBOUJ5Y2dCdWtqbzRfblBNUXxBQ3Jtc0trSW9oekx4d01pZW1QbnF1Q185LWJjZGVlSlhkWmdOd3BhdEhwQWZpaFVfajV4V2FVQVc3NlJjUUVDckZOa3hORlZzdlZVWjJtVVBYOHZ2am1MRHhoQ3BvUjlUN0ZpM1JUWHdCS2k0N0Y4XzZPTWpHZw&q=https%3A%2F%2Fwww.instagram.com%2Fshamailasabir48%2F'],\n",
       "  []],\n",
       " ['\\n    BEHALA vines\\n  ',\n",
       "  'https://www.youtube.com/channel/UCvrfOS6eTQWRN4nD-1hnxVA/about',\n",
       "  '\\n    Description\\n    BEHALA VINES\\n  ',\n",
       "  '1,088 views',\n",
       "  'Joined Apr 3, 2018',\n",
       "  [],\n",
       "  [],\n",
       "  []],\n",
       " ['\\n    SMVlogs\\n  ',\n",
       "  'https://www.youtube.com/channel/UC8r0wTKXxgkLSrnwgzyNJ5Q/about',\n",
       "  '\\n    Description\\n    \"SMV\" \\'s full form \"Sabuj Maiti Vlogs\" is blogging channel. All type of vlog will be available. thank you. \\n  ',\n",
       "  '80 views',\n",
       "  'Joined Jul 18, 2021',\n",
       "  [],\n",
       "  [],\n",
       "  []],\n",
       " ['\\n    Nirob Das\\n  ',\n",
       "  'https://www.youtube.com/channel/UChYB-p0pWx0FDNKUC0U7tPg/about',\n",
       "  '\\n    \\n    \\n  ',\n",
       "  '83,087 views',\n",
       "  'Joined Jun 25, 2020',\n",
       "  [],\n",
       "  [],\n",
       "  []],\n",
       " ['\\n    Life Navigation\\n  ',\n",
       "  'https://www.youtube.com/channel/UCci0oYRtVj7qilZzByUF4Sw/about',\n",
       "  \"\\n    Description\\n    Namaskar everyone and welcome to my Youtube channel. My name is Saikat Adhikary and I love to travel, eat tasty foods, long rides and explore new places. Come and be a part of my life's journey and explore together. I ride a Honda Aviator(scooter) and shoot with my phone(Samsung galaxy A8+)😉🤓\\n  \",\n",
       "  '9,433 views',\n",
       "  'Joined Jan 10, 2019',\n",
       "  [],\n",
       "  [],\n",
       "  []]]"
      ]
     },
     "execution_count": 10,
     "metadata": {},
     "output_type": "execute_result"
    }
   ],
   "source": [
    "data"
   ]
  },
  {
   "cell_type": "code",
   "execution_count": 12,
   "id": "a33fe827",
   "metadata": {},
   "outputs": [
    {
     "name": "stderr",
     "output_type": "stream",
     "text": [
      "\n",
      "\n",
      "====== WebDriver manager ======\n",
      "Current google-chrome version is 91.0.4472\n",
      "Get LATEST driver version for 91.0.4472\n",
      "Driver [C:\\Users\\soume\\.wdm\\drivers\\chromedriver\\win32\\91.0.4472.101\\chromedriver.exe] found in cache\n",
      "\n",
      "\n",
      "====== WebDriver manager ======\n",
      "Current google-chrome version is 91.0.4472\n",
      "Get LATEST driver version for 91.0.4472\n",
      "Driver [C:\\Users\\soume\\.wdm\\drivers\\chromedriver\\win32\\91.0.4472.101\\chromedriver.exe] found in cache\n",
      "\n",
      "\n",
      "====== WebDriver manager ======\n",
      "Current google-chrome version is 91.0.4472\n",
      "Get LATEST driver version for 91.0.4472\n",
      "Driver [C:\\Users\\soume\\.wdm\\drivers\\chromedriver\\win32\\91.0.4472.101\\chromedriver.exe] found in cache\n",
      "\n",
      "\n",
      "====== WebDriver manager ======\n",
      "Current google-chrome version is 91.0.4472\n",
      "Get LATEST driver version for 91.0.4472\n",
      "Driver [C:\\Users\\soume\\.wdm\\drivers\\chromedriver\\win32\\91.0.4472.101\\chromedriver.exe] found in cache\n",
      "\n",
      "\n",
      "====== WebDriver manager ======\n",
      "Current google-chrome version is 91.0.4472\n",
      "Get LATEST driver version for 91.0.4472\n",
      "Driver [C:\\Users\\soume\\.wdm\\drivers\\chromedriver\\win32\\91.0.4472.101\\chromedriver.exe] found in cache\n"
     ]
    }
   ],
   "source": [
    "data=[]\n",
    "for i in channel_link_uniq:\n",
    "    driver = webdriver.Chrome(ChromeDriverManager().install())\n",
    "    link=i + \"/about\"\n",
    "    driver.get(link)\n",
    "    time.sleep(3)\n",
    "    while True:\n",
    "        n=driver.find_element_by_xpath('//*[@id=\"text-container\"]')\n",
    "        name=n.get_attribute('textContent')\n",
    "        name=name.replace(\"\\n\",\"\")\n",
    "        name=name.replace(\"  \",\" \")\n",
    "        n=driver.find_element_by_xpath('//*[@id=\"description-container\"]')\n",
    "        description=n.get_attribute('textContent')\n",
    "        description=description.replace(\" \",\"\")\n",
    "        description=description.replace(\"\\n\",\" \")\n",
    "        description=description.replace(\"Description\\n\",\"\")\n",
    "        elements = driver.find_elements_by_xpath(\"//*[@class='style-scope ytd-channel-about-metadata-renderer']\")\n",
    "        element_text=[]\n",
    "        for i in elements:\n",
    "            element_text.append(i.get_attribute('textContent'))\n",
    "        view=element_text[30]\n",
    "        join_date=element_text[29]\n",
    "        join_date=join_date.replace(\"Joined\",\"\")\n",
    "        view=view.replace(\" views\",\"\")\n",
    "\n",
    "        media_link=[]\n",
    "        media_name=[]\n",
    "        link_element = driver.find_elements_by_xpath(\"//*[@class='yt-simple-endpoint style-scope ytd-channel-about-metadata-renderer']\")\n",
    "        for i in link_element:\n",
    "            media_link.append(i.get_attribute('href'))\n",
    "            media_name.append(i.get_attribute('textContent'))\n",
    "        \n",
    "        scroll_height = 2000\n",
    "        h1 = driver.execute_script(\"return document.documentElement.scrollHeight\")\n",
    "        driver.execute_script(f\"window.scrollTo(0, {h1 + scroll_height});\")\n",
    "        time.sleep(1.5)\n",
    "        h2 = driver.execute_script(\"return document.documentElement.scrollHeight\")\n",
    "        if h1 == h2:\n",
    "            break \n",
    "            \n",
    "        time.sleep()\n",
    "        facebook=[]\n",
    "        instragram=[]\n",
    "        twitter=[]\n",
    "        for i in range(len(media_name)):\n",
    "            if \"Facebook\\n\" in media_name[i].split(\" \"):\n",
    "                facebook.append(media_link[i])\n",
    "            if \"Instagram\\n\" in media_name[i].split(\" \"):\n",
    "                instragram.append(media_link[i])\n",
    "            if \"Twitter\\n\" in media_name[i].split(\" \"):\n",
    "                twitter.append(media_link[i])\n",
    "        \n",
    "\n",
    "    data.append([name,link,description,view,join_date,facebook,instragram,twitter])\n",
    "    driver.quit()"
   ]
  },
  {
   "cell_type": "code",
   "execution_count": 13,
   "id": "a19b39e9",
   "metadata": {},
   "outputs": [
    {
     "data": {
      "text/plain": [
       "[['  shamaila sabir ',\n",
       "  'https://www.youtube.com/channel/UCPValY9X5GPQwPhCmxi_RsQ/about',\n",
       "  ' Description HeyFriendsWelcometomyChannelShamailaSabir.Lovetotraveltonewplacesandmakeinformativevideosonthat.Mychannelisamade-for-YouTubetravelshowthatpresentsinterestingandscenicplacestovisit.Thistravelshowpointsyoutowardsthebestplacestoshopatandeatatindifferentplaces.So,whetheryouareafoodlover,acurioustraveler,athrillseekeroracompulsiveexplorer,StayTuned:)  SubscribetoShamailaSabirandbethefirsttoviewourlatestvideos! Clickheretosubscribe: https://www.youtube.com/channel/UCPValY9X5GPQwPhCmxi_RsQ   https://www.instagram.com/chocolicioustreat/ https://www.facebook.com/ShamailaVlogger/?modal=admin_todo_tour ',\n",
       "  '348,902',\n",
       "  ' Feb 24, 2014',\n",
       "  [],\n",
       "  [],\n",
       "  []],\n",
       " ['  BEHALA vines ',\n",
       "  'https://www.youtube.com/channel/UCvrfOS6eTQWRN4nD-1hnxVA/about',\n",
       "  ' Description BEHALAVINES ',\n",
       "  '1,088',\n",
       "  ' Apr 3, 2018',\n",
       "  [],\n",
       "  [],\n",
       "  []],\n",
       " ['  SMVlogs ',\n",
       "  'https://www.youtube.com/channel/UC8r0wTKXxgkLSrnwgzyNJ5Q/about',\n",
       "  ' Description \"SMV\"\\'sfullform\"SabujMaitiVlogs\"isbloggingchannel.Alltypeofvlogwillbeavailable.thankyou. ',\n",
       "  '80',\n",
       "  ' Jul 18, 2021',\n",
       "  [],\n",
       "  [],\n",
       "  []],\n",
       " ['  Nirob Das ',\n",
       "  'https://www.youtube.com/channel/UChYB-p0pWx0FDNKUC0U7tPg/about',\n",
       "  '   ',\n",
       "  '83,087',\n",
       "  ' Jun 25, 2020',\n",
       "  [],\n",
       "  [],\n",
       "  []],\n",
       " ['  Life Navigation ',\n",
       "  'https://www.youtube.com/channel/UCci0oYRtVj7qilZzByUF4Sw/about',\n",
       "  \" Description NamaskareveryoneandwelcometomyYoutubechannel.MynameisSaikatAdhikaryandIlovetotravel,eattastyfoods,longridesandexplorenewplaces.Comeandbeapartofmylife'sjourneyandexploretogether.IrideaHondaAviator(scooter)andshootwithmyphone(SamsunggalaxyA8+)😉🤓 \",\n",
       "  '9,433',\n",
       "  ' Jan 10, 2019',\n",
       "  [],\n",
       "  [],\n",
       "  []]]"
      ]
     },
     "execution_count": 13,
     "metadata": {},
     "output_type": "execute_result"
    }
   ],
   "source": [
    "data"
   ]
  },
  {
   "cell_type": "code",
   "execution_count": null,
   "id": "2c10d600",
   "metadata": {},
   "outputs": [],
   "source": []
  },
  {
   "cell_type": "code",
   "execution_count": null,
   "id": "ce5a79b8",
   "metadata": {},
   "outputs": [],
   "source": []
  },
  {
   "cell_type": "code",
   "execution_count": null,
   "id": "02db48f1",
   "metadata": {},
   "outputs": [],
   "source": [
    "\n",
    "    "
   ]
  },
  {
   "cell_type": "code",
   "execution_count": null,
   "id": "5ac9475d",
   "metadata": {},
   "outputs": [],
   "source": []
  },
  {
   "cell_type": "code",
   "execution_count": null,
   "id": "abd25bc7",
   "metadata": {},
   "outputs": [],
   "source": []
  },
  {
   "cell_type": "code",
   "execution_count": null,
   "id": "41516946",
   "metadata": {},
   "outputs": [],
   "source": []
  },
  {
   "cell_type": "code",
   "execution_count": null,
   "id": "e890176c",
   "metadata": {},
   "outputs": [],
   "source": []
  },
  {
   "cell_type": "code",
   "execution_count": null,
   "id": "fd240038",
   "metadata": {},
   "outputs": [],
   "source": [
    "\n"
   ]
  },
  {
   "cell_type": "code",
   "execution_count": null,
   "id": "a0aa45e4",
   "metadata": {},
   "outputs": [],
   "source": [
    "\n"
   ]
  },
  {
   "cell_type": "code",
   "execution_count": null,
   "id": "156d88cc",
   "metadata": {},
   "outputs": [],
   "source": [
    "\n"
   ]
  },
  {
   "cell_type": "code",
   "execution_count": null,
   "id": "8d28c710",
   "metadata": {},
   "outputs": [],
   "source": []
  },
  {
   "cell_type": "code",
   "execution_count": 11,
   "id": "95583fcd",
   "metadata": {},
   "outputs": [
    {
     "ename": "SyntaxError",
     "evalue": "invalid syntax (<ipython-input-11-fb84acc2fbd1>, line 61)",
     "output_type": "error",
     "traceback": [
      "\u001b[1;36m  File \u001b[1;32m\"<ipython-input-11-fb84acc2fbd1>\"\u001b[1;36m, line \u001b[1;32m61\u001b[0m\n\u001b[1;33m    \"\"\"elements = driver.find_elements_by_xpath(\"//*[@class='style-scope ytd-channel-about-metadata-renderer']\")\u001b[0m\n\u001b[1;37m       ^\u001b[0m\n\u001b[1;31mSyntaxError\u001b[0m\u001b[1;31m:\u001b[0m invalid syntax\n"
     ]
    }
   ],
   "source": [
    "\"\"\"from itertools import product\n",
    "\n",
    "#print(x_path) #\n",
    "print(len(x_path))\n",
    "print(len(x_path_cname))\n",
    "channel_link=[]\n",
    "channel_name=[]\n",
    "c=1\n",
    "#for i,j in x_path,x_path_cname:\n",
    "for i,j in product(x_path,x_path_cname):\n",
    "    channel_link.append(i.get_attribute('href'))\n",
    "    channel_name.append(j.get_attribute(\"textContent\"))\n",
    "    if c>=200:\n",
    "        break\n",
    "    c+=1\n",
    "\n",
    "print(channel_name)\n",
    "print(\"\\n\\n\")\n",
    "print(channel_link)\n",
    "\n",
    "\"\"\"\n",
    "\"\"\"\n",
    "\n",
    "#search_c=driver.find_element_by_id('channel-info')\n",
    "#search_c.click()\n",
    "#print(search_c)\n",
    "channel=[]\n",
    "#x_path=driver.find_elements_by_xpath('//*[@id=\"channel-info\"]/a')\n",
    "x_path_cname=driver.find_elements_by_xpath('//*[@id=\"text\"]/a')\n",
    "print(x_path_cname)\n",
    "for i in x_path_cname:\n",
    "    channel.append(i.get_attribute('textContent'))\n",
    "print(channel)\n",
    "\n",
    "\"\"\"\n",
    "\n",
    "\"\"\"\n",
    "name=[]\n",
    "description=[]\n",
    "for i in channel_link_uniq:\n",
    "    driver = webdriver.Chrome(ChromeDriverManager().install())\n",
    "    driver.get(i + \"/about\")\n",
    "    time.sleep(3)\n",
    "    n=driver.find_element_by_xpath('//*[@id=\"text-container\"]')\n",
    "    name.append(n.get_attribute('textContent'))\n",
    "    n=driver.find_element_by_xpath('//*[@id=\"description-container\"]')\n",
    "    description.append(n.get_attribute('textContent'))\n",
    "    \n",
    "    driver.quit()\"\"\"\n",
    "\n",
    "\"\"\"\n",
    "link=\"https://www.youtube.com/c/ExpozaTravel/about\"\n",
    "#link=\"https://www.youtube.com/c/FoodkaSeries/about\"\n",
    "media_link=[]\n",
    "name=[]\n",
    "driver = webdriver.Chrome(ChromeDriverManager().install())\n",
    "driver.get(link)\n",
    "time.sleep(4)\n",
    "n=driver.find_element_by_xpath('//*[@id=\"text-container\"]')\n",
    "n.get_attribute('textContent')\n",
    "\"\"\"elements = driver.find_elements_by_xpath(\"//*[@class='style-scope ytd-channel-about-metadata-renderer']\")\n",
    "for i in elements:\n",
    "    element_text.append(i.get_attribute('textContent'))\n",
    "view=element_text[30]\n",
    "join_date=element_text[29]\"\"\"\n",
    "link_element = driver.find_elements_by_xpath(\"//*[@class='yt-simple-endpoint style-scope ytd-channel-about-metadata-renderer']\")\n",
    "for i in link_element:\n",
    "    media_link.append(i.get_attribute('href'))\n",
    "    name.append(i.get_attribute('textContent'))\n",
    "facebook=[]\n",
    "instragram=[]\n",
    "twitter=[]\n",
    "for i in range(len(name)):\n",
    "    if \"Facebook\\n\" in name[i].split(\" \"):\n",
    "        facebook.append(media_link[i])\n",
    "    if \"Instagram\\n\" in name[i].split(\" \"):\n",
    "        instragram.append(media_link[i])\n",
    "    if \"Twitter\\n\" in name[i].split(\" \"):\n",
    "        twitter.append(media_link[i])\n",
    "\"\"\""
   ]
  }
 ],
 "metadata": {
  "kernelspec": {
   "display_name": "Python 3",
   "language": "python",
   "name": "python3"
  },
  "language_info": {
   "codemirror_mode": {
    "name": "ipython",
    "version": 3
   },
   "file_extension": ".py",
   "mimetype": "text/x-python",
   "name": "python",
   "nbconvert_exporter": "python",
   "pygments_lexer": "ipython3",
   "version": "3.8.8"
  }
 },
 "nbformat": 4,
 "nbformat_minor": 5
}
